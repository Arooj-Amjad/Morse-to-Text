{
  "nbformat": 4,
  "nbformat_minor": 0,
  "metadata": {
    "colab": {
      "provenance": [],
      "authorship_tag": "ABX9TyO9Y3IpiH8VZtceJMKLBNNe",
      "include_colab_link": true
    },
    "kernelspec": {
      "name": "python3",
      "display_name": "Python 3"
    },
    "language_info": {
      "name": "python"
    }
  },
  "cells": [
    {
      "cell_type": "markdown",
      "metadata": {
        "id": "view-in-github",
        "colab_type": "text"
      },
      "source": [
        "<a href=\"https://colab.research.google.com/github/Arooj-Amjad/Morse-to-Text/blob/main/Morse_Code_Converter.ipynb\" target=\"_parent\"><img src=\"https://colab.research.google.com/assets/colab-badge.svg\" alt=\"Open In Colab\"/></a>"
      ]
    },
    {
      "cell_type": "markdown",
      "source": [
        "The purpose of this project is to create a morse code coverter that not only converts morse code into english but english into morse code as well."
      ],
      "metadata": {
        "id": "vm2zJMs2q3Gy"
      }
    },
    {
      "cell_type": "code",
      "source": [
        "# Define a dictionary mapping characters to their Morse code equivalent\n",
        "MORSE_CODE_DICT = {\n",
        "    'A': '.-', 'B': '-...', 'C': '-.-.', 'D': '-..', 'E': '.', 'F': '..-.', 'G': '--.',\n",
        "    'H': '....', 'I': '..', 'J': '.---', 'K': '-.-', 'L': '.-..', 'M': '--', 'N': '-.',\n",
        "    'O': '---', 'P': '.--.', 'Q': '--.-', 'R': '.-.', 'S': '...', 'T': '-', 'U': '..-',\n",
        "    'V': '...-', 'W': '.--', 'X': '-..-', 'Y': '-.--', 'Z': '--..',\n",
        "    '0': '-----', '1': '.----', '2': '..---', '3': '...--', '4': '....-', '5': '.....',\n",
        "    '6': '-....', '7': '--...', '8': '---..', '9': '----.',\n",
        "    ' ': '/', # Space\n",
        "    '.': '.-.-.-', ',': '--..--', '?': '..--..', '\\'': '.----.', '!': '-.-.--', '/': '-..-.',\n",
        "    '(': '-.--.', ')': '-.--.-', '&': '.-...', ':': '---...', ';': '-.-.-.', '=': '-...-',\n",
        "    '+': '.-.-.', '-': '-....-', '_': '..--.-', '\"': '.-..-.', '$': '...-..-', '@': '.--.-.'\n",
        "}\n",
        "\n",
        "# Function to convert text to Morse code\n",
        "def text_to_morse(text):\n",
        "    morse_code = \"\"\n",
        "    for char in text.upper():\n",
        "        if char in MORSE_CODE_DICT:\n",
        "            morse_code += MORSE_CODE_DICT[char] + \" \"\n",
        "        else:\n",
        "            morse_code += \"/ \"  # Use '/' to represent unknown characters\n",
        "    return morse_code\n",
        "\n",
        "# Function to convert Morse code to text\n",
        "def morse_to_text(morse_code):\n",
        "    text = \"\"\n",
        "    morse_code = morse_code.split(\" \")\n",
        "    for code in morse_code:\n",
        "        for key, value in MORSE_CODE_DICT.items():\n",
        "            if code == value:\n",
        "                text += key\n",
        "    return text\n",
        "\n",
        "# Test the functions\n",
        "text = \"Hello, World!\"\n",
        "morse = text_to_morse(text)\n",
        "print(\"Text to Morse Code:\", morse)\n",
        "\n",
        "decoded_text = morse_to_text(morse)\n",
        "print(\"Decoded Morse Code to Text:\", decoded_text)\n"
      ],
      "metadata": {
        "colab": {
          "base_uri": "https://localhost:8080/"
        },
        "id": "Ue7oDbXBrOIz",
        "outputId": "572d9870-0cb5-4baf-868b-3b2abb38aa1c"
      },
      "execution_count": null,
      "outputs": [
        {
          "output_type": "stream",
          "name": "stdout",
          "text": [
            "Text to Morse Code: .... . .-.. .-.. --- --..-- / .-- --- .-. .-.. -.. -.-.-- \n",
            "Decoded Morse Code to Text: HELLO, WORLD!\n"
          ]
        }
      ]
    },
    {
      "cell_type": "code",
      "source": [],
      "metadata": {
        "id": "n4jSFyMHsEpm"
      },
      "execution_count": null,
      "outputs": []
    }
  ]
}